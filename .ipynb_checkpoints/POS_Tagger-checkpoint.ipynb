{
 "cells": [
  {
   "cell_type": "code",
   "execution_count": 8,
   "metadata": {},
   "outputs": [],
   "source": [
    "%run ./Corpus_Reader.ipynb\n",
    "import nltk\n",
    "from nltk.corpus.reader import TaggedCorpusReader\n",
    "from nltk import word_tokenize\n",
    "import re\n",
    "\n",
    "POS_Tagger=[]    \n",
    "\n",
    "for noun in Nounswordscorpus:\n",
    "    \n",
    "    POS_Tagger.append((noun,'N')) \n",
    "    \n",
    "for verb in Verbswordscorpus:\n",
    "    \n",
    "    POS_Tagger.append((verb,'V')) \n",
    "\n",
    "for adjective in Adjectiveswordscorpus:\n",
    "    \n",
    "    POS_Tagger.append((adjective,'ADJ')) \n",
    "    \n",
    "for Adverb in Adverbswordscorpus:\n",
    "\n",
    "    POS_Tagger.append((Adverb,'ADV'))\n",
    "\n",
    "for number in NumberCorpus:\n",
    "\n",
    "    POS_Tagger.append((number,'NUM'))  \n",
    "\n",
    "POS_Tagger.append((r'[0-9]','NUM'))\n",
    "\n",
    "for Pronoun in pronunsCorpus:\n",
    "\n",
    "    POS_Tagger.append((Pronoun,'PN'))\n",
    "    \n",
    "for determinant in determinantCorpus:\n",
    "\n",
    "    POS_Tagger.append((determinant,'DET'))\n",
    "\n",
    "for conjunction in conjunctionsCorpus:\n",
    "\n",
    "    POS_Tagger.append((conjunction,'CJ'))\n",
    "\n",
    "for preposition in PrepositionCorpus:\n",
    "    \n",
    "        POS_Tagger.append((preposition,'P'))\n",
    "\n",
    "POS_Tagger.append((r'.*','N'))\n"
   ]
  },
  {
   "cell_type": "code",
   "execution_count": null,
   "metadata": {},
   "outputs": [],
   "source": []
  },
  {
   "cell_type": "code",
   "execution_count": null,
   "metadata": {},
   "outputs": [],
   "source": []
  }
 ],
 "metadata": {
  "kernelspec": {
   "display_name": "Python 3",
   "language": "python",
   "name": "python3"
  },
  "language_info": {
   "codemirror_mode": {
    "name": "ipython",
    "version": 3
   },
   "file_extension": ".py",
   "mimetype": "text/x-python",
   "name": "python",
   "nbconvert_exporter": "python",
   "pygments_lexer": "ipython3",
   "version": "3.6.5"
  }
 },
 "nbformat": 4,
 "nbformat_minor": 5
}
