{
 "cells": [
  {
   "cell_type": "code",
   "execution_count": 2,
   "metadata": {},
   "outputs": [],
   "source": [
    "import nltk\n",
    "\n",
    "from nltk.corpus import PlaintextCorpusReader   \n",
    "\n",
    "newcorpus = PlaintextCorpusReader('C:\\\\Users\\\\hp\\\\Desktop\\\\NPL Group project\\\\NLP GUI Project', '.*')\n",
    "\n",
    "#wordscorpus = newcorpus.words('cleaned_dictionary.txt')\n",
    "\n",
    "#wordscorpus = newcorpus.words('Walta_Corpus.txt')\n",
    "\n",
    "Verbswordscorpus = newcorpus.words('Verbs.txt')\n",
    "\n",
    "Nounswordscorpus = newcorpus.words('Nouns.txt')\n",
    "\n",
    "Adjectiveswordscorpus = newcorpus.words('Adjectives.txt')\n",
    "\n",
    "pronunsCorpus=newcorpus.words('pronouns.txt')\n",
    "\n",
    "NumberCorpus=newcorpus.words('Number.txt')\n",
    "\n",
    "PrepositionCorpus=newcorpus.words('prepositions.txt')\n",
    "\n",
    "conjunctionsCorpus=newcorpus.words('conjunctions.txt')"
   ]
  },
  {
   "cell_type": "code",
   "execution_count": null,
   "metadata": {},
   "outputs": [],
   "source": []
  },
  {
   "cell_type": "code",
   "execution_count": null,
   "metadata": {},
   "outputs": [],
   "source": []
  }
 ],
 "metadata": {
  "kernelspec": {
   "display_name": "Python 3",
   "language": "python",
   "name": "python3"
  },
  "language_info": {
   "codemirror_mode": {
    "name": "ipython",
    "version": 3
   },
   "file_extension": ".py",
   "mimetype": "text/x-python",
   "name": "python",
   "nbconvert_exporter": "python",
   "pygments_lexer": "ipython3",
   "version": "3.6.5"
  }
 },
 "nbformat": 4,
 "nbformat_minor": 5
}
