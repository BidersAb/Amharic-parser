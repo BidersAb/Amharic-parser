{
 "cells": [
  {
   "cell_type": "code",
   "execution_count": null,
   "metadata": {},
   "outputs": [],
   "source": [
    "bookGrammar = \"\"\"   \n",
    "     S:{<NP><VP>|<N><VP>}  \n",
    "     PP:{<P><N>|<P><PP>}\n",
    "     AJP:{<DET>*<PP>*<ADJ>}\n",
    "     NP:{<DET><N>+|<ADP>*<N>+|<N>*}\n",
    "     NP:{<NP><AJP><NP>|<DET>*<AJP><NP>} \n",
    "     ADP:{<DET>?<PP>?<ADV>}\n",
    "     VP:{<PP><V>|<PP><NP><V>|<ADP>*<V>|<AJP><V>|<N><V>}\n",
    "     VP:{<PP><VP>|<V>+}\n",
    "\"\"\"\n",
    "grammar = \"\"\"   \n",
    "     S:{<NP><VP>}    \n",
    "    NP:{<PP>*<Adj>*<N>*} \n",
    "    PP:{<PR><NP>}\n",
    "    VP:{<ADV>?<ADJ>*<N>?<V>|<ADV>?<ADJ>*<PP>?<V>}\n",
    "\n",
    "\"\"\"\n"
   ]
  }
 ],
 "metadata": {
  "kernelspec": {
   "display_name": "Python 3",
   "language": "python",
   "name": "python3"
  },
  "language_info": {
   "codemirror_mode": {
    "name": "ipython",
    "version": 3
   },
   "file_extension": ".py",
   "mimetype": "text/x-python",
   "name": "python",
   "nbconvert_exporter": "python",
   "pygments_lexer": "ipython3",
   "version": "3.6.5"
  }
 },
 "nbformat": 4,
 "nbformat_minor": 5
}
