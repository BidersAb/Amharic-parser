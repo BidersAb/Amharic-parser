{
 "cells": [
  {
   "cell_type": "code",
   "execution_count": 4,
   "id": "7cad52e8",
   "metadata": {},
   "outputs": [],
   "source": [
    "import nltk\n",
    "\n",
    "from nltk.corpus import PlaintextCorpusReader \n",
    "\n",
    "newcorpus = PlaintextCorpusReader('C:\\\\Users\\\\Biders Abyu\\\\Desktop\\\\NLP GUI Project', '.*')\n",
    "\n",
    "Verbswordscorpus = newcorpus.words('Verbs.txt')\n",
    "\n",
    "Adverbswordscorpus = newcorpus.words('Adverbs.txt')\n",
    "\n",
    "Nounswordscorpus = newcorpus.words('Nouns.txt')\n",
    "\n",
    "Adjectiveswordscorpus = newcorpus.words('Adjectives.txt')\n",
    "\n",
    "pronunsCorpus=newcorpus.words('pronouns.txt')\n",
    "\n",
    "NumberCorpus=newcorpus.words('Number.txt')\n",
    "\n",
    "PrepositionCorpus=newcorpus.words('prepositions.txt')\n",
    "\n",
    "determinantCorpus=newcorpus.words('determinant.txt')\n",
    "\n",
    "conjunctionsCorpus=newcorpus.words('conjunctions.txt')\n",
    "\n",
    "#wordscorpus = newcorpus.words('cleaned_dictionary.txt')\n",
    "\n",
    "#wordscorpus = newcorpus.words('Walta_Corpus.txt')"
   ]
  },
  {
   "cell_type": "code",
   "execution_count": null,
   "id": "6cc8194c",
   "metadata": {},
   "outputs": [],
   "source": []
  },
  {
   "cell_type": "code",
   "execution_count": null,
   "id": "0280b3de",
   "metadata": {},
   "outputs": [],
   "source": []
  }
 ],
 "metadata": {
  "kernelspec": {
   "display_name": "Python 3 (ipykernel)",
   "language": "python",
   "name": "python3"
  },
  "language_info": {
   "codemirror_mode": {
    "name": "ipython",
    "version": 3
   },
   "file_extension": ".py",
   "mimetype": "text/x-python",
   "name": "python",
   "nbconvert_exporter": "python",
   "pygments_lexer": "ipython3",
   "version": "3.9.7"
  }
 },
 "nbformat": 4,
 "nbformat_minor": 5
}
